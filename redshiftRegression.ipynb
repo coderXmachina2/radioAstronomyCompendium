{
 "cells": [
  {
   "cell_type": "code",
   "execution_count": 154,
   "metadata": {},
   "outputs": [],
   "source": [
    "#redshift classification\n",
    "\n",
    "#classify galaxy Redshift based on SDSS survey data \n",
    "import numpy as np\n",
    "\n",
    "redshiftData = np.load('SDSSugriz.npy')"
   ]
  },
  {
   "cell_type": "code",
   "execution_count": 155,
   "metadata": {},
   "outputs": [
    {
     "name": "stdout",
     "output_type": "stream",
     "text": [
      "The data has 50000 entries\n"
     ]
    }
   ],
   "source": [
    "#eyeball that the data first\n",
    "N = len(redshiftData)\n",
    "print(\"The data has \" + str(N) + \" entries\")"
   ]
  },
  {
   "cell_type": "code",
   "execution_count": 156,
   "metadata": {},
   "outputs": [
    {
     "name": "stdout",
     "output_type": "stream",
     "text": [
      "First Entry: (19.84132, 19.52656, 19.46946, 19.17955, 19.10763, b'QSO', 0.539301, 6.543622e-05)\n"
     ]
    }
   ],
   "source": [
    "print(\"First Entry: \" + str(redshiftData[0]))"
   ]
  },
  {
   "cell_type": "code",
   "execution_count": 157,
   "metadata": {},
   "outputs": [
    {
     "name": "stdout",
     "output_type": "stream",
     "text": [
      "First 5: [(19.84132, 19.52656, 19.46946, 19.17955, 19.10763, b'QSO', 0.539301  , 6.543622e-05)\n",
      " (19.86318, 18.66298, 17.84272, 17.38978, 17.14313, b'GALAXY', 0.1645703 , 1.186625e-05)\n",
      " (19.97362, 18.31421, 17.47922, 17.0744 , 16.76174, b'GALAXY', 0.04190006, 2.183788e-05)\n",
      " (19.05989, 17.49459, 16.59285, 16.09412, 15.70741, b'GALAXY', 0.04427702, 1.062687e-05)\n",
      " (19.45567, 18.33084, 17.67185, 17.30189, 17.1365 , b'GALAXY', 0.04164413, 1.766807e-05)]\n"
     ]
    }
   ],
   "source": [
    "print (\"First 5: \" + str(redshiftData[:5]))"
   ]
  },
  {
   "cell_type": "code",
   "execution_count": 158,
   "metadata": {},
   "outputs": [
    {
     "name": "stdout",
     "output_type": "stream",
     "text": [
      "Each entry has: 8 attributes. They are ('u', 'g', 'r', 'i', 'z', 'spec_class', 'redshift', 'redshift_err')\n"
     ]
    }
   ],
   "source": [
    "print(\"Each entry has: \" + str(len(redshiftData[0])) + ' attributes. They are ' + str(redshiftData.dtype.names)) #each entry has "
   ]
  },
  {
   "cell_type": "code",
   "execution_count": 191,
   "metadata": {},
   "outputs": [],
   "source": [
    "#prep UGRIZ and redshift table\n",
    "\n",
    "ugrizTable = np.zeros((N, 4)) #5,000 rows, 5 columns\n",
    "ugrizTable[: ,0] = redshiftData['u'] - redshiftData['g']\n",
    "ugrizTable[: ,1] = redshiftData['g'] - redshiftData['r']\n",
    "ugrizTable[: ,2] = redshiftData['r'] - redshiftData['i']\n",
    "ugrizTable[: ,3] = redshiftData['i'] - redshiftData['z']\n",
    "\n",
    "classAttRedshift = np.asarray(redshiftData['redshift'])"
   ]
  },
  {
   "cell_type": "code",
   "execution_count": 248,
   "metadata": {},
   "outputs": [],
   "source": [
    "def decTreeRedshiftPredict(spectra, redshift):\n",
    "    from sklearn.tree import DecisionTreeRegressor\n",
    "    split = (1/2) * N\n",
    "    \n",
    "    split = int(split)\n",
    "    \n",
    "    specTrain , redshiftTrain = spectra[:split] , redshift[:split]\n",
    "    specTest , redshiftTest  = spectra[split:] , redshift[split:]\n",
    "    \n",
    "    modelDT = DecisionTreeRegressor() #ima use this\n",
    "    modelDT.fit(specTrain, redshiftTrain)\n",
    "    \n",
    "    redshiftPredict = modelDT.predict(specTest)\n",
    "    rmsDT = np.sqrt(np.mean(redshiftTest-redshiftPredict)**2)\n",
    "    \n",
    "    return(rmsDT)\n",
    "\n",
    "def GNBRedshiftPredict(spectra, redshift):\n",
    "    from sklearn.naive_bayes import GaussianNB\n",
    "    from sklearn import linear_model                                                                                                                                               \n",
    "    from sklearn import datasets                                                                                                                                                  \n",
    "    from sklearn import metrics\n",
    "    \n",
    "    split = (1/2) * N\n",
    "    split = int(split)\n",
    "    \n",
    "    specTrain , redshiftTrain = spectra[:split] , redshift[:split]\n",
    "    specTest , redshiftTest  = spectra[split:] , redshift[split:]\n",
    "    \n",
    "    modelGNB = GaussianNB() #ima use this\n",
    "    \n",
    "    redshiftTrain = redshiftTrain.astype('int')\n",
    "    \n",
    "    modelGNB.fit(specTrain, redshiftTrain)\n",
    "    #modelGNB.partial_fit(specTrain, redshiftTrain, np.unique(redshiftTrain))\n",
    "    redshiftPredict = modelGNB.predict(specTest)\n",
    "    rmsGNB = np.sqrt(np.mean(redshiftTest-redshiftPredict)**2)\n",
    "    \n",
    "    return(rmsGNB)"
   ]
  },
  {
   "cell_type": "code",
   "execution_count": 249,
   "metadata": {
    "scrolled": true
   },
   "outputs": [
    {
     "name": "stdout",
     "output_type": "stream",
     "text": [
      "Decision tree has an RMS = 0.007509613469699679 regression on SDSS Galaxy Data\n"
     ]
    }
   ],
   "source": [
    "modelDTRMS = decTreeRedshiftPredict(ugrizTable, classAttRedshift)\n",
    "\n",
    "print(\"Decision tree has an RMS = \" + str(modelDTRMS) + \" regression on SDSS Galaxy Data\")"
   ]
  },
  {
   "cell_type": "code",
   "execution_count": 250,
   "metadata": {},
   "outputs": [
    {
     "name": "stdout",
     "output_type": "stream",
     "text": [
      "Gaussian Naive Bayes has an RMS = 0.0664292179919136 regression on SDSS Galaxy Data\n"
     ]
    }
   ],
   "source": [
    "modelGNBRMS = GNBRedshiftPredict(ugrizTable, classAttRedshift)\n",
    "\n",
    "print(\"Gaussian Naive Bayes has an RMS = \" + str(modelGNBRMS) + \" regression on SDSS Galaxy Data\")"
   ]
  },
  {
   "cell_type": "code",
   "execution_count": null,
   "metadata": {},
   "outputs": [],
   "source": []
  },
  {
   "cell_type": "code",
   "execution_count": null,
   "metadata": {},
   "outputs": [],
   "source": []
  },
  {
   "cell_type": "code",
   "execution_count": null,
   "metadata": {},
   "outputs": [],
   "source": []
  }
 ],
 "metadata": {
  "kernelspec": {
   "display_name": "Python 3",
   "language": "python",
   "name": "python3"
  },
  "language_info": {
   "codemirror_mode": {
    "name": "ipython",
    "version": 3
   },
   "file_extension": ".py",
   "mimetype": "text/x-python",
   "name": "python",
   "nbconvert_exporter": "python",
   "pygments_lexer": "ipython3",
   "version": "3.7.1"
  }
 },
 "nbformat": 4,
 "nbformat_minor": 2
}
