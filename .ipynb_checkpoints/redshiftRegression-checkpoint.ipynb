{
 "cells": [
  {
   "cell_type": "code",
   "execution_count": 2,
   "metadata": {},
   "outputs": [],
   "source": [
    "#redshift classification\n",
    "\n",
    "#classify galaxy Redshift based on SDSS survey data \n",
    "import numpy as np\n",
    "\n",
    "redshiftData = np.load('SDSSugriz.npy')\n",
    "galaxyClass = np.load('galaxy_catalogue.npy')"
   ]
  },
  {
   "cell_type": "code",
   "execution_count": 3,
   "metadata": {},
   "outputs": [],
   "source": [
    "#eyeball that the data first\n",
    "def eyeBallData (data):\n",
    "    N = len(data)\n",
    "    firstEntry = data[0]\n",
    "    firstV = data[:5]\n",
    "    Nattr = len(data[0])\n",
    "    nomDtype = data.dtype.names\n",
    "    \n",
    "    return (N, firstEntry, firstV, Nattr, nomDtype)"
   ]
  },
  {
   "cell_type": "code",
   "execution_count": 4,
   "metadata": {},
   "outputs": [
    {
     "name": "stdout",
     "output_type": "stream",
     "text": [
      "The dataset SDSS Spectra has 50000 entries.\n",
      "\n",
      "Here is the first Entry:\n",
      "(19.84132, 19.52656, 19.46946, 19.17955, 19.10763, b'QSO', 0.539301, 6.543622e-05)\n",
      "\n",
      "Here are the first 5:\n",
      "[(19.84132, 19.52656, 19.46946, 19.17955, 19.10763, b'QSO', 0.539301  , 6.543622e-05)\n",
      " (19.86318, 18.66298, 17.84272, 17.38978, 17.14313, b'GALAXY', 0.1645703 , 1.186625e-05)\n",
      " (19.97362, 18.31421, 17.47922, 17.0744 , 16.76174, b'GALAXY', 0.04190006, 2.183788e-05)\n",
      " (19.05989, 17.49459, 16.59285, 16.09412, 15.70741, b'GALAXY', 0.04427702, 1.062687e-05)\n",
      " (19.45567, 18.33084, 17.67185, 17.30189, 17.1365 , b'GALAXY', 0.04164413, 1.766807e-05)]\n",
      "\n",
      "Each entry has: 8 attributes. They are ('u', 'g', 'r', 'i', 'z', 'spec_class', 'redshift', 'redshift_err')\n"
     ]
    }
   ],
   "source": [
    "decomposeSDSS = eyeBallData(redshiftData)\n",
    "\n",
    "print(\"The dataset SDSS Spectra has \" + str(decomposeSDSS[0]) + \" entries.\\n\\n\" +\n",
    "      \"Here is the first Entry:\\n\" + str(decomposeSDSS[1]) + \"\\n\\n\" +\n",
    "      \"Here are the first 5:\\n\" + str(decomposeSDSS[2]) + \"\\n\\n\" +\n",
    "      \"Each entry has: \" + str(decomposeSDSS[3]) + ' attributes. They are ' + str(decomposeSDSS[4])\n",
    "     )"
   ]
  },
  {
   "cell_type": "code",
   "execution_count": 5,
   "metadata": {},
   "outputs": [
    {
     "name": "stdout",
     "output_type": "stream",
     "text": [
      "The dataset galaxyCat Data has 780 entries.\n",
      "\n",
      "Here is the first Entry:\n",
      "(1.85765, 0.67158, 0.4231, 0.3061, 0.5854284, 2.251946, 2.339849, 2.380652, 2.359738, 2.395528, 3.095123, 3.818919, 3.82623, 5.174814, 8.263009, 11.47734, 'merger')\n",
      "\n",
      "Here are the first 5:\n",
      "[(1.85765, 0.67158, 0.4231 , 0.3061 , 0.5854284, 2.251946, 2.339849, 2.380652, 2.359738, 2.395528, 3.095123, 3.818919, 3.82623 , 5.174814,  8.263009, 11.47734 , 'merger')\n",
      " (1.74259, 0.86085, 0.44927, 0.28851, 0.7498125, 2.031566, 2.084156, 2.092272, 2.124075, 2.133154, 1.430436, 1.422533, 1.385727, 3.732712,  3.416921,  3.330347, 'merger')\n",
      " (2.10697, 0.9671 , 0.5681 , 0.33747, 0.6300893, 1.992887, 2.450746, 2.473116, 2.465324, 2.438683, 3.099957, 3.623704, 3.4633  , 9.110857,  8.354343, 11.26539 , 'merger')\n",
      " (1.2284 , 0.60446, 0.39049, 0.28913, 0.6689994, 2.056115, 2.182252, 2.30951 , 2.391414, 2.472397, 3.627267, 4.063471, 3.717708, 9.580675, 12.20242 , 11.82622 , 'merger')\n",
      " (1.80792, 0.78124, 0.45528, 0.35067, 0.5001697, 2.259167, 2.194723, 2.264567, 2.334713, 2.352568, 3.256751, 3.153533, 2.254511, 9.206746,  9.790146,  6.636931, 'merger')]\n",
      "\n",
      "Each entry has: 17 attributes. They are ('u-g', 'g-r', 'r-i', 'i-z', 'ecc', 'm4_u', 'm4_g', 'm4_r', 'm4_i', 'm4_z', 'petroR50_u', 'petroR50_r', 'petroR50_z', 'petroR90_u', 'petroR90_r', 'petroR90_z', 'class')\n"
     ]
    }
   ],
   "source": [
    "decomposeGalaxyClass = eyeBallData(galaxyClass)\n",
    "\n",
    "print(\"The dataset galaxyCat Data has \" + str(decomposeGalaxyClass[0]) + \" entries.\\n\\n\" +\n",
    "      \"Here is the first Entry:\\n\" + str(decomposeGalaxyClass[1]) + \"\\n\\n\" +\n",
    "      \"Here are the first 5:\\n\" + str(decomposeGalaxyClass[2]) + \"\\n\\n\" +\n",
    "      \"Each entry has: \" + str(decomposeGalaxyClass[3]) + ' attributes. They are ' + str(decomposeGalaxyClass[4])\n",
    "     )"
   ]
  },
  {
   "cell_type": "code",
   "execution_count": 17,
   "metadata": {},
   "outputs": [],
   "source": [
    "N = len(redshiftData)"
   ]
  },
  {
   "cell_type": "code",
   "execution_count": 19,
   "metadata": {},
   "outputs": [],
   "source": [
    "spectraData = redshiftData[::10]"
   ]
  },
  {
   "cell_type": "code",
   "execution_count": 32,
   "metadata": {},
   "outputs": [],
   "source": [
    "ug = spectraData['u'] - spectraData['g']\n",
    "gr = spectraData['g'] - spectraData['r']\n",
    "\n",
    "spectraClass = spectraData['spec_class']\n",
    "\n",
    "qso = (spectraClass == b'QSO')\n",
    "galaxy = (spectraClass == b'GALAXY')"
   ]
  },
  {
   "cell_type": "code",
   "execution_count": 33,
   "metadata": {},
   "outputs": [],
   "source": [
    "from matplotlib import pyplot as plot"
   ]
  },
  {
   "cell_type": "code",
   "execution_count": 38,
   "metadata": {},
   "outputs": [
    {
     "data": {
      "image/png": "[encoded data removed]",
      "text/plain": [
       "<Figure size 432x288 with 1 Axes>"
      ]
     },
     "metadata": {
      "needs_background": "light"
     },
     "output_type": "display_data"
    }
   ],
   "source": [
    "figure = plot.figure()\n",
    "ax = figure.add_subplot(111)\n",
    "\n",
    "ax.set_xlim(-0.5, 2.5)\n",
    "ax.set_ylim(-0.5, 1.25)\n",
    "\n",
    "ax.plot(ug[qso], gr[qso], '.', ms=4, c='b', label='Quasi Stellar Object (QSO)')\n",
    "ax.plot(ug[galaxy], ug[galaxy], '.', ms=4, c='r', label='Galaxy')\n",
    "\n",
    "ax.legend(loc=2)\n",
    "\n",
    "ax.set_xlabel('$u-g$')\n",
    "ax.set_ylabel('$g-r$')\n",
    "\n",
    "plot.show()"
   ]
  },
  {
   "cell_type": "code",
   "execution_count": 27,
   "metadata": {},
   "outputs": [],
   "source": [
    "#prep UGRIZ and redshift table\n",
    "\n",
    "ugrizTable = np.zeros((N, 4)) #5,000 rows, 5 columns\n",
    "ugrizTable[: ,0] = redshiftData['u'] - redshiftData['g']\n",
    "ugrizTable[: ,1] = redshiftData['g'] - redshiftData['r']\n",
    "ugrizTable[: ,2] = redshiftData['r'] - redshiftData['i']\n",
    "ugrizTable[: ,3] = redshiftData['i'] - redshiftData['z']\n",
    "\n",
    "classAttRedshift = np.asarray(redshiftData['redshift'])"
   ]
  },
  {
   "cell_type": "code",
   "execution_count": 28,
   "metadata": {},
   "outputs": [],
   "source": [
    "from sklearn.tree import DecisionTreeRegressor\n",
    "from sklearn.naive_bayes import GaussianNB\n",
    "\n",
    "def decTreeRedshiftPredict(spectra, redshift):\n",
    "\n",
    "    split = (1/2) * N\n",
    "    \n",
    "    split = int(split)\n",
    "    \n",
    "    specTrain , redshiftTrain = spectra[:split] , redshift[:split]\n",
    "    specTest , redshiftTest  = spectra[split:] , redshift[split:]\n",
    "    \n",
    "    modelDT = DecisionTreeRegressor() #ima use this\n",
    "    modelDT.fit(specTrain, redshiftTrain)\n",
    "    \n",
    "    redshiftPredict = modelDT.predict(specTest)\n",
    "    \n",
    "    evalObj = evaluation(redshiftPredict, redshiftTest)\n",
    "    \n",
    "    return(evalObj)\n",
    "\n",
    "\n",
    "def GNBRedshiftPredict(spectra, redshift):   \n",
    "    split = (1/2) * N\n",
    "    split = int(split)\n",
    "    \n",
    "    specTrain , redshiftTrain = spectra[:split] , redshift[:split]\n",
    "    specTest , redshiftTest  = spectra[split:] , redshift[split:]\n",
    "    \n",
    "    modelGNB = GaussianNB() #ima use this\n",
    "    \n",
    "    redshiftTrain = redshiftTrain.astype('int')\n",
    "    \n",
    "    modelGNB.fit(specTrain, redshiftTrain)\n",
    "    #modelGNB.partial_fit(specTrain, redshiftTrain, np.unique(redshiftTrain))\n",
    "    redshiftPredict = modelGNB.predict(specTest)\n",
    "    \n",
    "    ###############################################################\n",
    "    #write a function called evaluation that calculates median difference and rmse\n",
    "    \n",
    "    evalObj = evaluation(redshiftPredict, redshiftTest)\n",
    "    \n",
    "    return(evalObj)\n",
    "\n",
    "def evaluation(predict, test):\n",
    "    rmseErr = np.sqrt(np.mean(test - predict)**2) #\n",
    "    medianDiff = np.median(np.abs(predict - test))\n",
    "    \n",
    "    return (rmseErr, medianDiff)"
   ]
  },
  {
   "cell_type": "code",
   "execution_count": 29,
   "metadata": {
    "scrolled": true
   },
   "outputs": [
    {
     "name": "stdout",
     "output_type": "stream",
     "text": [
      "Decision tree has an RMSE = 0.00637 regression on SDSS Galaxy Data\n",
      "Decision tree has an medianDiff = 0.02181 regression on SDSS Galaxy Data\n"
     ]
    }
   ],
   "source": [
    "evalDT = decTreeRedshiftPredict(ugrizTable, classAttRedshift)\n",
    "\n",
    "print(\"Decision tree has an RMSE = \" + str(round(evalDT[0], 5)) + \" regression on SDSS Galaxy Data\")\n",
    "print(\"Decision tree has an medianDiff = \" + str(round(evalDT[1], 5)) + \" regression on SDSS Galaxy Data\")"
   ]
  },
  {
   "cell_type": "code",
   "execution_count": 30,
   "metadata": {},
   "outputs": [
    {
     "name": "stdout",
     "output_type": "stream",
     "text": [
      "Gaussian Naive Bayes has an RMSE = 0.06643 regression on SDSS Galaxy Data\n",
      "Decision tree has an medianDiff = 0.02181 regression on SDSS Galaxy Data\n"
     ]
    }
   ],
   "source": [
    "evalGNB = GNBRedshiftPredict(ugrizTable, classAttRedshift)\n",
    "\n",
    "print(\"Gaussian Naive Bayes has an RMSE = \" + str(round(evalGNB[0], 5)) + \" regression on SDSS Galaxy Data\")\n",
    "print(\"Decision tree has an medianDiff = \" + str(round(evalDT[1], 5)) + \" regression on SDSS Galaxy Data\")\n"
   ]
  },
  {
   "cell_type": "code",
   "execution_count": 31,
   "metadata": {},
   "outputs": [],
   "source": [
    "#write a function that validates the model using k fold cross validation where k = 10\n",
    "#10 fold cross validation is pretty genius if you think about it.\n",
    "#running the model once gets us a acc reading median/rmse that can vary across configurations of datasets so its not that super\n",
    "#accurate\n",
    "\n",
    "#imagine shuffling the data and training it on 10 crossectional splits.\n",
    "#The Acc reading is taken as an average of 10. Irons out the uncertainties.\n",
    "\n",
    "from sklearn.model_selection import KFold\n",
    "def cross10FoldXVal ():\n",
    "    print(\"derp\")\n",
    "    #take in the model, the featues, "
   ]
  },
  {
   "cell_type": "code",
   "execution_count": null,
   "metadata": {},
   "outputs": [],
   "source": []
  },
  {
   "cell_type": "code",
   "execution_count": null,
   "metadata": {},
   "outputs": [],
   "source": []
  },
  {
   "cell_type": "code",
   "execution_count": null,
   "metadata": {},
   "outputs": [],
   "source": []
  }
 ],
 "metadata": {
  "kernelspec": {
   "display_name": "Python 3",
   "language": "python",
   "name": "python3"
  },
  "language_info": {
   "codemirror_mode": {
    "name": "ipython",
    "version": 3
   },
   "file_extension": ".py",
   "mimetype": "text/x-python",
   "name": "python",
   "nbconvert_exporter": "python",
   "pygments_lexer": "ipython3",
   "version": "3.7.1"
  }
 },
 "nbformat": 4,
 "nbformat_minor": 2
}
