{
 "cells": [
  {
   "cell_type": "code",
   "execution_count": 4,
   "metadata": {},
   "outputs": [
    {
     "name": "stdout",
     "output_type": "stream",
     "text": [
      "Angular Distance between the objects is: 32.92909682666844\n"
     ]
    }
   ],
   "source": [
    "#function to calculate the great circle distance\n",
    "#angular distance\n",
    "\n",
    "import numpy as np\n",
    "\n",
    "def hms2dec(h, m, s): #RA\n",
    "  return 15*(h + m/60 + s/3600)\n",
    "  \n",
    "def dms2dec(deg, m, s): #Dec\n",
    "  if deg < 0:\n",
    "    sign = -1\n",
    "  else:\n",
    "    sign = 1\n",
    "  return sign*(abs(deg) + m/60 + s/3600)\n",
    "\n",
    "def angular_dist(RAA , DecA, RAB, DecB):\n",
    "  ra1 = np.radians(RAA)\n",
    "  ra2 = np.radians(RAB)\n",
    "  \n",
    "  dec1 = np.radians(DecA)\n",
    "  dec2 = np.radians(DecB)\n",
    "  \n",
    "  a = np.sin(np.abs(dec1 - dec2)/2)**2                          #first find A\n",
    "  b = np.cos(dec1)*np.cos(dec2)*np.sin(np.abs(ra1 - ra2)/2)**2  #then find B\n",
    "  \n",
    "  angDist = 2*np.arcsin(np.sqrt(a + b))                          #then find angDist\n",
    "  \n",
    "  return np.degrees(angDist)                                    #convert to degrees\n",
    "\n",
    "RA1 = hms2dec(3, 47, 29.09)\n",
    "RA2 = hms2dec(6, 11, 45.94)\n",
    "\n",
    "dec1 = dms2dec(24, 6, 17.9)\n",
    "dec2 = dms2dec(23, 24, 37.3)\n",
    "\n",
    "print(\"Angular Distance between the objects is: \" + str(angular_dist(RA1, dec1, RA2, dec2)))"
   ]
  },
  {
   "cell_type": "code",
   "execution_count": null,
   "metadata": {},
   "outputs": [],
   "source": []
  }
 ],
 "metadata": {
  "kernelspec": {
   "display_name": "Python 3",
   "language": "python",
   "name": "python3"
  },
  "language_info": {
   "codemirror_mode": {
    "name": "ipython",
    "version": 3
   },
   "file_extension": ".py",
   "mimetype": "text/x-python",
   "name": "python",
   "nbconvert_exporter": "python",
   "pygments_lexer": "ipython3",
   "version": "3.7.1"
  }
 },
 "nbformat": 4,
 "nbformat_minor": 2
}
